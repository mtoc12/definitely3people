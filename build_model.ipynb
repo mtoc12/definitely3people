{
 "nbformat": 4,
 "nbformat_minor": 2,
 "metadata": {
  "language_info": {
   "name": "python",
   "codemirror_mode": {
    "name": "ipython",
    "version": 3
   },
   "version": "3.7.3-final"
  },
  "orig_nbformat": 2,
  "file_extension": ".py",
  "mimetype": "text/x-python",
  "name": "python",
  "npconvert_exporter": "python",
  "pygments_lexer": "ipython3",
  "version": 3,
  "kernelspec": {
   "name": "python37364bitbaseconda616ee3b691a7456fb56d65de76d30fdb",
   "display_name": "Python 3.7.3 64-bit ('base': conda)"
  }
 },
 "cells": [
  {
   "cell_type": "code",
   "execution_count": 24,
   "metadata": {},
   "outputs": [],
   "source": [
    "import math\n",
    "import numbers\n",
    "import torch\n",
    "from torch import nn\n",
    "import numpy as np\n",
    "import matplotlib\n",
    "import matplotlib.pyplot as plt\n",
    "import sklearn.metrics\n",
    "\n",
    "import utils"
   ]
  },
  {
   "cell_type": "code",
   "execution_count": 2,
   "metadata": {},
   "outputs": [
    {
     "name": "stdout",
     "output_type": "stream",
     "text": "cpu\n"
    }
   ],
   "source": [
    "device = torch.device(\"cuda:0\" if torch.cuda.is_available() else \"cpu\")\n",
    "print(device)"
   ]
  },
  {
   "cell_type": "code",
   "execution_count": 3,
   "metadata": {},
   "outputs": [
    {
     "data": {
      "text/plain": "<module 'utils' from 'c:\\\\Users\\\\mtoc1\\\\Documents\\\\github\\\\definitely3people\\\\utils.py'>"
     },
     "execution_count": 3,
     "metadata": {},
     "output_type": "execute_result"
    }
   ],
   "source": [
    "import importlib\n",
    "importlib.reload(utils)"
   ]
  },
  {
   "cell_type": "code",
   "execution_count": 4,
   "metadata": {},
   "outputs": [],
   "source": [
    "idtrain, Xtrain, ytrain = utils.load_train_data()"
   ]
  },
  {
   "cell_type": "code",
   "execution_count": 5,
   "metadata": {},
   "outputs": [
    {
     "name": "stdout",
     "output_type": "stream",
     "text": "(592380, 26)\n"
    },
    {
     "data": {
      "image/png": "[encoded data removed]",
      "image/svg+xml": "<?xml version=\"1.0\" encoding=\"utf-8\" standalone=\"no\"?>\r\n<!DOCTYPE svg PUBLIC \"-//W3C//DTD SVG 1.1//EN\"\r\n  \"http://www.w3.org/Graphics/SVG/1.1/DTD/svg11.dtd\">\r\n<!-- Created with matplotlib (https://matplotlib.org/) -->\r\n<svg height=\"248.518125pt\" version=\"1.1\" viewBox=\"0 0 253.745962 248.518125\" width=\"253.745962pt\" xmlns=\"http://www.w3.org/2000/svg\" xmlns:xlink=\"http://www.w3.org/1999/xlink\">\r\n <defs>\r\n  <style type=\"text/css\">\r\n*{stroke-linecap:butt;stroke-linejoin:round;white-space:pre;}\r\n  </style>\r\n </defs>\r\n <g id=\"figure_1\">\r\n  <g id=\"patch_1\">\r\n   <path d=\"M 0 248.518125 \r\nL 253.745962 248.518125 \r\nL 253.745962 0 \r\nL 0 0 \r\nz\r\n\" style=\"fill:none;\"/>\r\n  </g>\r\n  <g id=\"axes_1\">\r\n   <g id=\"patch_2\">\r\n    <path d=\"M 26.925 224.64 \r\nL 244.365 224.64 \r\nL 244.365 7.2 \r\nL 26.925 7.2 \r\nz\r\n\" style=\"fill:#ffffff;\"/>\r\n   </g>\r\n   <g clip-path=\"url(#p0810fc0a52)\">\r\n    <image height=\"218\" id=\"imageadc3ac48b0\" transform=\"scale(1 -1)translate(0 -218)\" width=\"218\" x=\"26.925\" xlink:href=\"data:image/png;base64,\r\niVBORw0KGgoAAAANSUhEUgAAANoAAADaCAYAAADAHVzbAAAABHNCSVQICAgIfAhkiAAABQRJREFUeJzt3TGrHFUYx+F3zIghQRAhjZBO0U6bNDYRQQQrCVgLFkIktZ8kxA9hY2WjhWlsbLQULYRAmqAEw5VAiGuzwrXwvkdm/O+w93nas3f2TDY/pnjZs9PLVbta6Oeqaek1Pm328Wvz93eXboB/eHvgNY//91307/Fas/7cCnu4NvCad3ZnZ/TMCvsAGkKDAKFBgNAgQGgQIDQIEBoEzBcPvYO9Zxf+/Vbu41is8e95ssI1uv8X3ZxtZI72RrPezciqqr6azh4le6JBgNAgQGgQIDQIEBoECA0ChAYBQoOAeemgeC3dgPTPZn0r93GedJ/Z02b9j7U2coZXBl7zXjOQ/rIZRldVfd+se6JBgNAgQGgQIDQIEBoECA0ChAYB8+VD72Dv+Wa9m8ls5T6OxcjhqN3sculstKr/8ujVZv2DgS9tft7MyX5qr9DzRIMAoUGA0CBAaBAgNAgQGgQIDQKEBgHzlUPvYK/bRzdA3cp9nCdPmvWlA+0Rt5qB9O2BL23eW2Ef3b14okGA0CBAaBAgNAgQGgQIDQKEBgHz3UPvYO/bZr2bU3y91kaoqqqPB17zQrPefWZvDrzHtWZO9lEzJxv51dELzfrI06ibKXqiQYDQIEBoECA0CBAaBAgNAoQGAfMa3wlaw9IfEtzKfRyLbi404vVmvZuRVVV918zJ1vjcRw6L7fg+GmyA0CBAaBAgNAgQGgQIDQKEBgFCg4C5+6XNlO4XOx8061u5j2PRfRmyqurVZv2tZiD9zcDhpj80692T4lL7Dv011hhoe6JBgNAgQGgQIDQIEBoECA0ChAYBc3cIZsqLzfovzfpW7uNYXB14zfvNnOyLZk7243/Yz79Z+mOIVf0Md2Sm2M3aPNEgQGgQIDQIEBoECA0ChAYBQoOA+aVD72DvysK/38p9HItbA4eb3m7mZPeav386sI+lB+uOHATbzcnWOKTVEw0ChAYBQoMAoUGA0CBAaBAgNAgQGgRMu93AZLK7yDRwEmbjZtWifdxZfhuccmPgI73frD9s1h8N7KP7QuX1Zr07eLeq6qRZHxl6++InbIDQIEBoECA0CBAaBAgNAoQGAUKDAKFBgNAgQGgQIDQIEBoECA0ChAYBQoMAoUGA0CBAaBAgNAgQGgQIDQKEBgFCgwChQYDQIEBoECA0CBAaBAgNAoQGAUKDAKFBgNAgQGgQIDQIEBoECA0ChAYBQoMAoUGA0CBAaBAgNAgQGgQIDQKEBgFCgwChQYDQIEBoECA0CBAaBAgNAoQGAUKDAKFBgNAgQGgQIDQIEBoECA0ChAYBQoMAoUGA0CBAaBAgNAgQGgQIDQKEBgFCgwChQYDQIEBoECA0CBAaBAgNAoQGAUKDAKFBgNAgQGgQMN2s2i29yGdV09JrXGr2cbI7e5ufTIu3wCm/B97jwgrXeNysX1xhH2s8jTzRIEBoECA0CBAaBAgNAoQGAUKDgPnQG/hbNye73MzJPlxzM9S7A6950Kz/1qyfDLzHk2a922e3x6qqR816N6ur6vfpiQYBQoMAoUGA0CBAaBAgNAgQGgAAAAAAAAAAAAAAAAAAcH5Mu11zcunIRablvwK49AcR7yy/DU65MfCR3m/WHzbr3cGlVf3hpdeb9ZEDVLuDXLvDUav6fTrKAAKEBgFCgwChQYDQIEBoECA0CBAaBAgNAoQGAUKDAKFBgNAgQGgQIDQIEBoE/AWfZ3p3YBEStwAAAABJRU5ErkJggg==\" y=\"-6.64\"/>\r\n   </g>\r\n   <g id=\"matplotlib.axis_1\">\r\n    <g id=\"xtick_1\">\r\n     <g id=\"line2d_1\">\r\n      <defs>\r\n       <path d=\"M 0 0 \r\nL 0 3.5 \r\n\" id=\"m82fd8333cc\" style=\"stroke:#000000;stroke-width:0.8;\"/>\r\n      </defs>\r\n      <g>\r\n       <use style=\"stroke:#000000;stroke-width:0.8;\" x=\"31.106538\" xlink:href=\"#m82fd8333cc\" y=\"224.64\"/>\r\n      </g>\r\n     </g>\r\n     <g id=\"text_1\">\r\n      <!-- 0 -->\r\n      <defs>\r\n       <path d=\"M 31.78125 66.40625 \r\nQ 24.171875 66.40625 20.328125 58.90625 \r\nQ 16.5 51.421875 16.5 36.375 \r\nQ 16.5 21.390625 20.328125 13.890625 \r\nQ 24.171875 6.390625 31.78125 6.390625 \r\nQ 39.453125 6.390625 43.28125 13.890625 \r\nQ 47.125 21.390625 47.125 36.375 \r\nQ 47.125 51.421875 43.28125 58.90625 \r\nQ 39.453125 66.40625 31.78125 66.40625 \r\nz\r\nM 31.78125 74.21875 \r\nQ 44.046875 74.21875 50.515625 64.515625 \r\nQ 56.984375 54.828125 56.984375 36.375 \r\nQ 56.984375 17.96875 50.515625 8.265625 \r\nQ 44.046875 -1.421875 31.78125 -1.421875 \r\nQ 19.53125 -1.421875 13.0625 8.265625 \r\nQ 6.59375 17.96875 6.59375 36.375 \r\nQ 6.59375 54.828125 13.0625 64.515625 \r\nQ 19.53125 74.21875 31.78125 74.21875 \r\nz\r\n\" id=\"DejaVuSans-48\"/>\r\n      </defs>\r\n      <g transform=\"translate(27.925288 239.238437)scale(0.1 -0.1)\">\r\n       <use xlink:href=\"#DejaVuSans-48\"/>\r\n      </g>\r\n     </g>\r\n    </g>\r\n    <g id=\"xtick_2\">\r\n     <g id=\"line2d_2\">\r\n      <g>\r\n       <use style=\"stroke:#000000;stroke-width:0.8;\" x=\"72.921923\" xlink:href=\"#m82fd8333cc\" y=\"224.64\"/>\r\n      </g>\r\n     </g>\r\n     <g id=\"text_2\">\r\n      <!-- 5 -->\r\n      <defs>\r\n       <path d=\"M 10.796875 72.90625 \r\nL 49.515625 72.90625 \r\nL 49.515625 64.59375 \r\nL 19.828125 64.59375 \r\nL 19.828125 46.734375 \r\nQ 21.96875 47.46875 24.109375 47.828125 \r\nQ 26.265625 48.1875 28.421875 48.1875 \r\nQ 40.625 48.1875 47.75 41.5 \r\nQ 54.890625 34.8125 54.890625 23.390625 \r\nQ 54.890625 11.625 47.5625 5.09375 \r\nQ 40.234375 -1.421875 26.90625 -1.421875 \r\nQ 22.3125 -1.421875 17.546875 -0.640625 \r\nQ 12.796875 0.140625 7.71875 1.703125 \r\nL 7.71875 11.625 \r\nQ 12.109375 9.234375 16.796875 8.0625 \r\nQ 21.484375 6.890625 26.703125 6.890625 \r\nQ 35.15625 6.890625 40.078125 11.328125 \r\nQ 45.015625 15.765625 45.015625 23.390625 \r\nQ 45.015625 31 40.078125 35.4375 \r\nQ 35.15625 39.890625 26.703125 39.890625 \r\nQ 22.75 39.890625 18.8125 39.015625 \r\nQ 14.890625 38.140625 10.796875 36.28125 \r\nz\r\n\" id=\"DejaVuSans-53\"/>\r\n      </defs>\r\n      <g transform=\"translate(69.740673 239.238437)scale(0.1 -0.1)\">\r\n       <use xlink:href=\"#DejaVuSans-53\"/>\r\n      </g>\r\n     </g>\r\n    </g>\r\n    <g id=\"xtick_3\">\r\n     <g id=\"line2d_3\">\r\n      <g>\r\n       <use style=\"stroke:#000000;stroke-width:0.8;\" x=\"114.737308\" xlink:href=\"#m82fd8333cc\" y=\"224.64\"/>\r\n      </g>\r\n     </g>\r\n     <g id=\"text_3\">\r\n      <!-- 10 -->\r\n      <defs>\r\n       <path d=\"M 12.40625 8.296875 \r\nL 28.515625 8.296875 \r\nL 28.515625 63.921875 \r\nL 10.984375 60.40625 \r\nL 10.984375 69.390625 \r\nL 28.421875 72.90625 \r\nL 38.28125 72.90625 \r\nL 38.28125 8.296875 \r\nL 54.390625 8.296875 \r\nL 54.390625 0 \r\nL 12.40625 0 \r\nz\r\n\" id=\"DejaVuSans-49\"/>\r\n      </defs>\r\n      <g transform=\"translate(108.374808 239.238437)scale(0.1 -0.1)\">\r\n       <use xlink:href=\"#DejaVuSans-49\"/>\r\n       <use x=\"63.623047\" xlink:href=\"#DejaVuSans-48\"/>\r\n      </g>\r\n     </g>\r\n    </g>\r\n    <g id=\"xtick_4\">\r\n     <g id=\"line2d_4\">\r\n      <g>\r\n       <use style=\"stroke:#000000;stroke-width:0.8;\" x=\"156.552692\" xlink:href=\"#m82fd8333cc\" y=\"224.64\"/>\r\n      </g>\r\n     </g>\r\n     <g id=\"text_4\">\r\n      <!-- 15 -->\r\n      <g transform=\"translate(150.190192 239.238437)scale(0.1 -0.1)\">\r\n       <use xlink:href=\"#DejaVuSans-49\"/>\r\n       <use x=\"63.623047\" xlink:href=\"#DejaVuSans-53\"/>\r\n      </g>\r\n     </g>\r\n    </g>\r\n    <g id=\"xtick_5\">\r\n     <g id=\"line2d_5\">\r\n      <g>\r\n       <use style=\"stroke:#000000;stroke-width:0.8;\" x=\"198.368077\" xlink:href=\"#m82fd8333cc\" y=\"224.64\"/>\r\n      </g>\r\n     </g>\r\n     <g id=\"text_5\">\r\n      <!-- 20 -->\r\n      <defs>\r\n       <path d=\"M 19.1875 8.296875 \r\nL 53.609375 8.296875 \r\nL 53.609375 0 \r\nL 7.328125 0 \r\nL 7.328125 8.296875 \r\nQ 12.9375 14.109375 22.625 23.890625 \r\nQ 32.328125 33.6875 34.8125 36.53125 \r\nQ 39.546875 41.84375 41.421875 45.53125 \r\nQ 43.3125 49.21875 43.3125 52.78125 \r\nQ 43.3125 58.59375 39.234375 62.25 \r\nQ 35.15625 65.921875 28.609375 65.921875 \r\nQ 23.96875 65.921875 18.8125 64.3125 \r\nQ 13.671875 62.703125 7.8125 59.421875 \r\nL 7.8125 69.390625 \r\nQ 13.765625 71.78125 18.9375 73 \r\nQ 24.125 74.21875 28.421875 74.21875 \r\nQ 39.75 74.21875 46.484375 68.546875 \r\nQ 53.21875 62.890625 53.21875 53.421875 \r\nQ 53.21875 48.921875 51.53125 44.890625 \r\nQ 49.859375 40.875 45.40625 35.40625 \r\nQ 44.1875 33.984375 37.640625 27.21875 \r\nQ 31.109375 20.453125 19.1875 8.296875 \r\nz\r\n\" id=\"DejaVuSans-50\"/>\r\n      </defs>\r\n      <g transform=\"translate(192.005577 239.238437)scale(0.1 -0.1)\">\r\n       <use xlink:href=\"#DejaVuSans-50\"/>\r\n       <use x=\"63.623047\" xlink:href=\"#DejaVuSans-48\"/>\r\n      </g>\r\n     </g>\r\n    </g>\r\n    <g id=\"xtick_6\">\r\n     <g id=\"line2d_6\">\r\n      <g>\r\n       <use style=\"stroke:#000000;stroke-width:0.8;\" x=\"240.183462\" xlink:href=\"#m82fd8333cc\" y=\"224.64\"/>\r\n      </g>\r\n     </g>\r\n     <g id=\"text_6\">\r\n      <!-- 25 -->\r\n      <g transform=\"translate(233.820962 239.238437)scale(0.1 -0.1)\">\r\n       <use xlink:href=\"#DejaVuSans-50\"/>\r\n       <use x=\"63.623047\" xlink:href=\"#DejaVuSans-53\"/>\r\n      </g>\r\n     </g>\r\n    </g>\r\n   </g>\r\n   <g id=\"matplotlib.axis_2\">\r\n    <g id=\"ytick_1\">\r\n     <g id=\"line2d_7\">\r\n      <defs>\r\n       <path d=\"M 0 0 \r\nL -3.5 0 \r\n\" id=\"mf8f5be5e96\" style=\"stroke:#000000;stroke-width:0.8;\"/>\r\n      </defs>\r\n      <g>\r\n       <use style=\"stroke:#000000;stroke-width:0.8;\" x=\"26.925\" xlink:href=\"#mf8f5be5e96\" y=\"11.381538\"/>\r\n      </g>\r\n     </g>\r\n     <g id=\"text_7\">\r\n      <!-- 0 -->\r\n      <g transform=\"translate(13.5625 15.180757)scale(0.1 -0.1)\">\r\n       <use xlink:href=\"#DejaVuSans-48\"/>\r\n      </g>\r\n     </g>\r\n    </g>\r\n    <g id=\"ytick_2\">\r\n     <g id=\"line2d_8\">\r\n      <g>\r\n       <use style=\"stroke:#000000;stroke-width:0.8;\" x=\"26.925\" xlink:href=\"#mf8f5be5e96\" y=\"53.196923\"/>\r\n      </g>\r\n     </g>\r\n     <g id=\"text_8\">\r\n      <!-- 5 -->\r\n      <g transform=\"translate(13.5625 56.996142)scale(0.1 -0.1)\">\r\n       <use xlink:href=\"#DejaVuSans-53\"/>\r\n      </g>\r\n     </g>\r\n    </g>\r\n    <g id=\"ytick_3\">\r\n     <g id=\"line2d_9\">\r\n      <g>\r\n       <use style=\"stroke:#000000;stroke-width:0.8;\" x=\"26.925\" xlink:href=\"#mf8f5be5e96\" y=\"95.012308\"/>\r\n      </g>\r\n     </g>\r\n     <g id=\"text_9\">\r\n      <!-- 10 -->\r\n      <g transform=\"translate(7.2 98.811526)scale(0.1 -0.1)\">\r\n       <use xlink:href=\"#DejaVuSans-49\"/>\r\n       <use x=\"63.623047\" xlink:href=\"#DejaVuSans-48\"/>\r\n      </g>\r\n     </g>\r\n    </g>\r\n    <g id=\"ytick_4\">\r\n     <g id=\"line2d_10\">\r\n      <g>\r\n       <use style=\"stroke:#000000;stroke-width:0.8;\" x=\"26.925\" xlink:href=\"#mf8f5be5e96\" y=\"136.827692\"/>\r\n      </g>\r\n     </g>\r\n     <g id=\"text_10\">\r\n      <!-- 15 -->\r\n      <g transform=\"translate(7.2 140.626911)scale(0.1 -0.1)\">\r\n       <use xlink:href=\"#DejaVuSans-49\"/>\r\n       <use x=\"63.623047\" xlink:href=\"#DejaVuSans-53\"/>\r\n      </g>\r\n     </g>\r\n    </g>\r\n    <g id=\"ytick_5\">\r\n     <g id=\"line2d_11\">\r\n      <g>\r\n       <use style=\"stroke:#000000;stroke-width:0.8;\" x=\"26.925\" xlink:href=\"#mf8f5be5e96\" y=\"178.643077\"/>\r\n      </g>\r\n     </g>\r\n     <g id=\"text_11\">\r\n      <!-- 20 -->\r\n      <g transform=\"translate(7.2 182.442296)scale(0.1 -0.1)\">\r\n       <use xlink:href=\"#DejaVuSans-50\"/>\r\n       <use x=\"63.623047\" xlink:href=\"#DejaVuSans-48\"/>\r\n      </g>\r\n     </g>\r\n    </g>\r\n    <g id=\"ytick_6\">\r\n     <g id=\"line2d_12\">\r\n      <g>\r\n       <use style=\"stroke:#000000;stroke-width:0.8;\" x=\"26.925\" xlink:href=\"#mf8f5be5e96\" y=\"220.458462\"/>\r\n      </g>\r\n     </g>\r\n     <g id=\"text_12\">\r\n      <!-- 25 -->\r\n      <g transform=\"translate(7.2 224.25768)scale(0.1 -0.1)\">\r\n       <use xlink:href=\"#DejaVuSans-50\"/>\r\n       <use x=\"63.623047\" xlink:href=\"#DejaVuSans-53\"/>\r\n      </g>\r\n     </g>\r\n    </g>\r\n   </g>\r\n   <g id=\"patch_3\">\r\n    <path d=\"M 26.925 224.64 \r\nL 26.925 7.2 \r\n\" style=\"fill:none;stroke:#000000;stroke-linecap:square;stroke-linejoin:miter;stroke-width:0.8;\"/>\r\n   </g>\r\n   <g id=\"patch_4\">\r\n    <path d=\"M 244.365 224.64 \r\nL 244.365 7.2 \r\n\" style=\"fill:none;stroke:#000000;stroke-linecap:square;stroke-linejoin:miter;stroke-width:0.8;\"/>\r\n   </g>\r\n   <g id=\"patch_5\">\r\n    <path d=\"M 26.925 224.64 \r\nL 244.365 224.64 \r\n\" style=\"fill:none;stroke:#000000;stroke-linecap:square;stroke-linejoin:miter;stroke-width:0.8;\"/>\r\n   </g>\r\n   <g id=\"patch_6\">\r\n    <path d=\"M 26.925 7.2 \r\nL 244.365 7.2 \r\n\" style=\"fill:none;stroke:#000000;stroke-linecap:square;stroke-linejoin:miter;stroke-width:0.8;\"/>\r\n   </g>\r\n  </g>\r\n </g>\r\n <defs>\r\n  <clipPath id=\"p0810fc0a52\">\r\n   <rect height=\"217.44\" width=\"217.44\" x=\"26.925\" y=\"7.2\"/>\r\n  </clipPath>\r\n </defs>\r\n</svg>\r\n",
      "text/plain": "<Figure size 432x288 with 1 Axes>"
     },
     "metadata": {
      "needs_background": "light"
     },
     "output_type": "display_data"
    }
   ],
   "source": [
    "print(Xtrain.shape)\n",
    "plt.imshow(np.corrcoef(Xtrain.transpose()), cmap='hot')\n",
    "plt.show()"
   ]
  },
  {
   "cell_type": "code",
   "execution_count": 6,
   "metadata": {},
   "outputs": [
    {
     "name": "stdout",
     "output_type": "stream",
     "text": "i=0 has 0 nan values out of 592380\ni=1 has 0 nan values out of 592380\ni=2 has 172460 nan values out of 592380\ni=3 has 172460 nan values out of 592380\ni=4 has 0 nan values out of 592380\ni=5 has 0 nan values out of 592380\ni=6 has 0 nan values out of 592380\ni=7 has 0 nan values out of 592380\ni=8 has 0 nan values out of 592380\ni=9 has 0 nan values out of 592380\ni=10 has 0 nan values out of 592380\ni=11 has 0 nan values out of 592380\ni=12 has 0 nan values out of 592380\ni=13 has 0 nan values out of 592380\ni=14 has 0 nan values out of 592380\ni=15 has 0 nan values out of 592380\ni=16 has 0 nan values out of 592380\ni=17 has 0 nan values out of 592380\ni=18 has 0 nan values out of 592380\ni=19 has 0 nan values out of 592380\ni=20 has 0 nan values out of 592380\ni=21 has 0 nan values out of 592380\ni=22 has 0 nan values out of 592380\ni=23 has 0 nan values out of 592380\ni=24 has 0 nan values out of 592380\ni=25 has 0 nan values out of 592380\n"
    }
   ],
   "source": [
    "for i in range(Xtrain.shape[1]):\n",
    "    print('i=' + repr(i) + ' has '+\n",
    "         repr(np.count_nonzero(np.isnan(Xtrain[:,i]))) +\n",
    "         ' nan values out of ' + repr(Xtrain.shape[0]))"
   ]
  },
  {
   "cell_type": "code",
   "execution_count": 7,
   "metadata": {},
   "outputs": [],
   "source": [
    "Xtrain_tensor = torch.Tensor(Xtrain)\n",
    "ytrain_tensor = torch.Tensor(ytrain)\n",
    "train_dataset = torch.utils.data.TensorDataset(Xtrain_tensor, ytrain_tensor)"
   ]
  },
  {
   "cell_type": "code",
   "execution_count": 8,
   "metadata": {},
   "outputs": [
    {
     "name": "stdout",
     "output_type": "stream",
     "text": "592380<class 'torch.Tensor'><class 'torch.Tensor'>\n"
    }
   ],
   "source": [
    "print(len(train_dataset), type(train_dataset[0][0]), type(train_dataset[0][1]))"
   ]
  },
  {
   "cell_type": "code",
   "execution_count": 9,
   "metadata": {},
   "outputs": [],
   "source": [
    "# blah = np.array(range(20)).reshape(20,1)\n",
    "# # print(blah[:2*k] + blah[2*(k+1):])\n",
    "# # print(blah[2*k:2*(k+1)])\n",
    "\n",
    "# def kth_split(x, k, num_folds):\n",
    "#     num_datapoints = len(x)\n",
    "#     fold_size = math.floor(num_datapoints/num_folds)\n",
    "#     print(x[:fold_size*k].shape)\n",
    "#     if k == 0:\n",
    "#         return x[fold_size*(k+1):], x[fold_size*k:fold_size*(k+1)]\n",
    "#     elif k == num_folds-1:\n",
    "#         return x[:fold_size*k], x[fold_size*k:fold_size*(k+1)]\n",
    "#     else:\n",
    "#         return np.vstack((x[:fold_size*k], x[fold_size*(k+1):])), x[fold_size*k:fold_size*(k+1)]\n",
    "\n",
    "# def get_fold(num_folds, *args):\n",
    "#     for k in range(num_folds):\n",
    "#         retval = []\n",
    "#         for i in range(len(args)):\n",
    "#             retval += kth_split(args[i], k, num_folds)\n",
    "#         yield retval\n",
    "\n",
    "# for k in range(num_folds):\n",
    "#     print(kth_split(blah, k, 10))"
   ]
  },
  {
   "cell_type": "code",
   "execution_count": 10,
   "metadata": {},
   "outputs": [],
   "source": [
    "# Xtrain_tensor = torch.Tensor(Xtrain)\n",
    "# ytrain_tensor = np.array(ytrain)\n",
    "\n",
    "# for Xbuild, Xvalidate, ybuild, yvalidate in get_fold(10, Xtrain, ytrain):\n",
    "#     print('blah')\n",
    "#     build_dataset = torch.utils.data.TensorDataset(torch.Tensor(Xbuild), torch.Tensor(np.expand_dims(ybuild,1)))\n",
    "#     print(len(build_dataset), type(build_dataset[0][0]), type(build_dataset[0][1]))\n",
    "\n",
    "#     validate_dataset = torch.utils.data.TensorDataset(torch.Tensor(Xvalidate), torch.Tensor(yvalidate))\n",
    "#     print(len(validate_dataset), type(validate_dataset[0][0]), type(validate_dataset[0][1]))\n",
    "\n",
    "# num_datapoints = len(Xtrain)\n",
    "# slice_idx = math.floor(num_datapoints/10)\n",
    "\n",
    "# Xbuild = Xtrain[:slice_idx]\n",
    "# Xvalidate = Xtrain[slice_idx:]\n",
    "# ybuild = ytrain[:slice_idx]\n",
    "# yvalidate = ytrain[slice_idx:]\n",
    "\n",
    "# build_dataset = torch.utils.data.TensorDataset(torch.LongTensor(Xbuild), torch.LongTensor(ybuild))\n",
    "# print(len(build_dataset), type(build_dataset[0][0]), type(build_dataset[0][1]))\n",
    "# print(build_dataset[0][1].item())\n",
    "\n",
    "# validate_dataset = torch.utils.data.TensorDataset(torch.LongTensor(Xvalidate), torch.LongTensor(yvalidate))\n",
    "# print(len(validate_dataset), type(validate_dataset[0][0]), type(validate_dataset[0][1]))"
   ]
  },
  {
   "cell_type": "code",
   "execution_count": 11,
   "metadata": {},
   "outputs": [],
   "source": [
    "# build_loader = torch.utils.data.DataLoader(build_dataset, batch_size=32, shuffle=True)\n",
    "# validate_loader = torch.utils.data.DataLoader(validate_dataset, batch_size=32, shuffle=True)"
   ]
  },
  {
   "cell_type": "code",
   "execution_count": 12,
   "metadata": {},
   "outputs": [],
   "source": [
    "# model.train()\n",
    "\n",
    "# for epoch in range(1):\n",
    "#     for batch_idx, (data, target) in enumerate(build_loader):\n",
    "#         optimizer.zero_grad()\n",
    "#         output = model(data)\n",
    "#         loss = loss_fn(output, target)\n",
    "#         loss.backward()\n",
    "#         optimizer.step()\n",
    "\n",
    "#     print('Train Epoch: %d Loss: %.4f' % (epoch+1, loss.item()))"
   ]
  },
  {
   "cell_type": "code",
   "execution_count": 13,
   "metadata": {},
   "outputs": [],
   "source": [
    "# for data, target in zip(Xbuild, ybuild):\n",
    "#     optimizer.zero_grad()\n",
    "#     output = model((data))\n",
    "#     loss = loss_fn(output, target)\n",
    "#     loss.backward()\n",
    "#     optimizer.step()\n",
    "\n",
    "# print('Train Epoch: %d Loss: %.4f' % (epoch+1, loss.item()))\n",
    "    "
   ]
  },
  {
   "cell_type": "code",
   "execution_count": 14,
   "metadata": {},
   "outputs": [],
   "source": [
    "class MyDataset(torch.utils.data.Dataset):\n",
    "    def __init__(self, X, y=None):\n",
    "        self.X = X\n",
    "        self.y = y\n",
    "        self.features = list(range(X.shape[1]))\n",
    "\n",
    "    def __len__(self):\n",
    "        return len(self.X)\n",
    "\n",
    "    def __getitem__(self, idx):\n",
    "        if self.y is not None:\n",
    "            return self.X[idx,self.features], self.y[idx]\n",
    "        else:\n",
    "            return self.X[idx, self.features], "
   ]
  },
  {
   "cell_type": "code",
   "execution_count": 15,
   "metadata": {},
   "outputs": [
    {
     "name": "stdout",
     "output_type": "stream",
     "text": "900<class 'torch.Tensor'><class 'torch.Tensor'>\n100<class 'torch.Tensor'><class 'torch.Tensor'>\n"
    }
   ],
   "source": [
    "Xtrain_tensor = torch.FloatTensor(Xtrain[:1000])\n",
    "ytrain_tensor = torch.FloatTensor(ytrain[:1000])\n",
    "\n",
    "num_datapoints = len(Xtrain_tensor)\n",
    "slice_idx = math.floor(num_datapoints/10)\n",
    "\n",
    "train_dataset = MyDataset(Xtrain_tensor[slice_idx:,~np.isnan(sum(Xtrain))], ytrain_tensor[slice_idx:])\n",
    "test_dataset = MyDataset(Xtrain_tensor[:slice_idx,~np.isnan(sum(Xtrain))], ytrain_tensor[:slice_idx])\n",
    "\n",
    "print(len(train_dataset), type(train_dataset[0][0]), type(train_dataset[0][1]))\n",
    "print(len(test_dataset), type(test_dataset[0][0]), type(test_dataset[0][1]))"
   ]
  },
  {
   "cell_type": "code",
   "execution_count": 15,
   "metadata": {},
   "outputs": [],
   "source": [
    "train_dataloader = torch.utils.data.DataLoader(train_dataset, batch_size=128, shuffle=True)\n",
    "test_dataloader = torch.utils.data.DataLoader(test_dataset, batch_size=128, shuffle=True)"
   ]
  },
  {
   "cell_type": "code",
   "execution_count": 16,
   "metadata": {},
   "outputs": [
    {
     "data": {
      "text/plain": "8"
     },
     "execution_count": 16,
     "metadata": {},
     "output_type": "execute_result"
    }
   ],
   "source": [
    "train_dataloader.__len__()"
   ]
  },
  {
   "cell_type": "code",
   "execution_count": 22,
   "metadata": {},
   "outputs": [],
   "source": [
    "# Xtrain_tensor = torch.FloatTensor(Xtrain[:10000, ~np.isnan(sum(Xtrain))])\n",
    "# ytrain_tensor = torch.FloatTensor(ytrain[:10000])\n",
    "\n",
    "\n",
    "# feature_pool = list(range(24))\n",
    "# features = []\n",
    "\n",
    "# # features = list(range(23))\n",
    "# # feature_pool = [23]\n",
    "\n",
    "# while feature_pool:\n",
    "#     pool_accuracies = []\n",
    "#     pool_aucs = []\n",
    "#     for f in feature_pool:\n",
    "#         test_features = features.copy()\n",
    "#         test_features.append(f)\n",
    "#         print('Testing features ' + str(test_features))\n",
    "\n",
    "#         num_datapoints = len(Xtrain_tensor)\n",
    "#         slice_idx = math.floor(num_datapoints/10)\n",
    "\n",
    "#         train_dataset = MyDataset(Xtrain_tensor[slice_idx:,test_features], ytrain_tensor[slice_idx:])\n",
    "#         test_dataset = MyDataset(Xtrain_tensor[:slice_idx,test_features], ytrain_tensor[:slice_idx])\n",
    "\n",
    "#         train_dataloader = torch.utils.data.DataLoader(train_dataset, batch_size=128, shuffle=True)\n",
    "#         test_dataloader = torch.utils.data.DataLoader(test_dataset, batch_size=len(test_dataset), shuffle=True)\n",
    "\n",
    "#         # Get a clean model\n",
    "#         model = nn.Sequential(\n",
    "#             nn.Flatten(),  \n",
    "#             nn.Linear(len(test_features), 100),\n",
    "#             nn.ReLU(),\n",
    "#             nn.BatchNorm1d(100),\n",
    "#             nn.Linear(100, 1),\n",
    "#             nn.Sigmoid()\n",
    "#         ).to(device)\n",
    "#         # print(model)\n",
    "\n",
    "#         optimizer = torch.optim.Adam(model.parameters(), lr=1e-4)\n",
    "#         loss_fn = nn.MSELoss()\n",
    "\n",
    "#         # Some layers, such as Dropout, behave differently during training\n",
    "#         model.train()\n",
    "\n",
    "#         for epoch in range(10):\n",
    "#             for batch_idx, (data, target) in enumerate(train_dataloader):\n",
    "#                 data = data.to(device)\n",
    "#                 target = target.to(device)\n",
    "#                 optimizer.zero_grad()# Erase accumulated gradients\n",
    "#                 output = model(data)# Forward pass\n",
    "#                 loss = loss_fn(output, target)# Calculate loss\n",
    "#                 loss.backward()# Backward pass\n",
    "#                 optimizer.step()# Weight update\n",
    "\n",
    "#             # Track loss each epoch\n",
    "#         print('Train Epoch: %d  Loss: %.4f' % (epoch + 1,  loss.item()))\n",
    "            \n",
    "#         # Putting layers like Dropout into evaluation mode\n",
    "#         model.eval()\n",
    "\n",
    "#         test_loss = 0\n",
    "#         test_auc = 0\n",
    "#         correct = 0\n",
    "\n",
    "#         # Turning off automatic differentiation\n",
    "#         with torch.no_grad():\n",
    "#             for data, target in test_dataloader:\n",
    "#                 data = data.to(device)\n",
    "#                 target = target.to(device)\n",
    "#                 output = model(data)\n",
    "#                 test_loss += loss_fn(output, target).item()  # Sum up batch loss\n",
    "#                 test_auc += sklearn.metrics.roc_auc_score(target.data.numpy(), output.data.numpy())\n",
    "#                 pred = output.round()  # Get the index of the max class score\n",
    "#                 correct += pred.eq(target.view_as(pred)).sum().item()\n",
    "\n",
    "#         test_loss /= len(test_dataloader.dataset)\n",
    "#         test_auc /= len(test_dataloader)\n",
    "\n",
    "#         accuracy = 100. * correct / len(test_dataloader.dataset)\n",
    "#         pool_accuracies.append(accuracy)\n",
    "#         pool_aucs.append(test_auc)\n",
    "\n",
    "#         print('Test set: Average loss: %.4f, Accuracy: %d/%d (%.4f), AUC: %.4f' %\n",
    "#                 (test_loss, correct, len(test_dataloader.dataset),\n",
    "#                 accuracy, test_auc))\n",
    "\n",
    "#     # Find the best feature\n",
    "#     idx_best_feature = np.argmax(pool_aucs)\n",
    "#     print('Best feature was ' + str(feature_pool[idx_best_feature]))\n",
    "#     features.append(feature_pool[idx_best_feature])\n",
    "#     print('New feature list is ' + str(features))\n",
    "#     del feature_pool[idx_best_feature]\n",
    "#     print('---------------------------------------------')\n",
    "\n",
    "# print('done')"
   ]
  },
  {
   "cell_type": "code",
   "execution_count": 55,
   "metadata": {},
   "outputs": [
    {
     "name": "stdout",
     "output_type": "stream",
     "text": "Testing features range(0, 24)\nAUC         eta         layers\n0.6274      0.0100      [1000]\n0.5488      0.0100      [500, 500]\n0.4929      0.0100      [750, 250]\n0.5190      0.0100      [250, 750]\n0.4679      0.0100      [300, 600, 300]\n0.3679      0.0100      [150, 600, 450]\n0.4643      0.0100      [450, 600, 150]\n0.3500      0.0100      [150, 900, 150]\n0.3845      0.0010      [1000]\n0.6333      0.0010      [500, 500]\n0.6036      0.0010      [750, 250]\n0.6143      0.0010      [250, 750]\n0.3048      0.0010      [300, 600, 300]\n0.3119      0.0010      [150, 600, 450]\n0.4190      0.0010      [450, 600, 150]\n0.5417      0.0010      [150, 900, 150]\n0.3048      0.0001      [1000]\n0.4964      0.0001      [500, 500]\n0.3179      0.0001      [750, 250]\n0.3774      0.0001      [250, 750]\n0.4548      0.0001      [300, 600, 300]\n0.5179      0.0001      [150, 600, 450]\n0.6167      0.0001      [450, 600, 150]\n0.6369      0.0001      [150, 900, 150]\n"
    }
   ],
   "source": [
    "training_samples = math.floor(len(Xtrain)/1000)\n",
    "\n",
    "Xtrain_tensor = torch.FloatTensor(Xtrain[:training_samples, ~np.isnan(sum(Xtrain))])\n",
    "ytrain_tensor = torch.FloatTensor(ytrain[:training_samples])\n",
    "\n",
    "test_features = range(24)\n",
    "print('Testing features ' + str(test_features))\n",
    "\n",
    "num_datapoints = len(Xtrain_tensor)\n",
    "slice_idx = math.floor(num_datapoints/10)\n",
    "\n",
    "train_dataset = MyDataset(Xtrain_tensor[slice_idx:,test_features], ytrain_tensor[slice_idx:])\n",
    "test_dataset = MyDataset(Xtrain_tensor[:slice_idx,test_features], ytrain_tensor[:slice_idx])\n",
    "\n",
    "train_dataloader = torch.utils.data.DataLoader(train_dataset, batch_size=32, shuffle=True)\n",
    "test_dataloader = torch.utils.data.DataLoader(test_dataset, batch_size=len(test_dataset), shuffle=True)\n",
    "\n",
    "learning_rates = [1e-2, 1e-3, 1e-4]\n",
    "layer_sizes = [[1000], [500, 500], [750,250],[250,750],[300, 600, 300],[150,600,450],[450,600,150],[150,900,150]]\n",
    "eta = 1e-2\n",
    "\n",
    "results = []\n",
    "\n",
    "print('AUC         eta         layers')\n",
    "\n",
    "for eta in learning_rates:\n",
    "    # print('-------- eta = ' + str(eta) + ' --------')\n",
    "    for layers in layer_sizes:\n",
    "        # print('---- hiden layer sizes = ' + str(layers) + ' ----')\n",
    "        torch.manual_seed(155)\n",
    "        # Get a clean model\n",
    "        modules = []\n",
    "        modules.append(nn.Flatten())\n",
    "        size_last = 24\n",
    "        for i, layer in enumerate(layers):\n",
    "            if isinstance(layers[i], numbers.Number):\n",
    "                size_next = layers[i]\n",
    "                modules.append(nn.Linear(size_last, size_next))\n",
    "                modules.append(nn.ReLU())\n",
    "                modules.append(nn.BatchNorm1d(size_next))\n",
    "                size_last = size_next\n",
    "            else:\n",
    "                pass\n",
    "        modules.append(nn.Linear(size_last, 1))\n",
    "\n",
    "        model = nn.Sequential(*modules).to(device)\n",
    "\n",
    "        optimizer = torch.optim.Adam(model.parameters(), lr=eta)\n",
    "        loss_fn = nn.MSELoss()\n",
    "\n",
    "        # Some layers, such as Dropout, behave differently during training\n",
    "        model.train()\n",
    "\n",
    "        for epoch in range(1):\n",
    "            i = 0\n",
    "            for batch_idx, (data, target) in enumerate(train_dataloader):\n",
    "                if i % (math.floor(100)) == 0:\n",
    "                    # print('batch number = %i' % i)\n",
    "                    pass\n",
    "                i += 1\n",
    "                data = data.to(device)\n",
    "                target = target.to(device)\n",
    "                optimizer.zero_grad()# Erase accumulated gradients\n",
    "                output = model(data)# Forward pass\n",
    "                loss = loss_fn(output, target)# Calculate loss\n",
    "                loss.backward()# Backward pass\n",
    "                optimizer.step()# Weight update\n",
    "\n",
    "            # Track loss each epoch\n",
    "            # print('Train Epoch: %d  Loss: %.4f' % (epoch + 1,  loss.item()))\n",
    "            \n",
    "        # Putting layers like Dropout into evaluation mode\n",
    "        model.eval()\n",
    "\n",
    "        test_loss = 0\n",
    "        test_auc = 0\n",
    "        correct = 0\n",
    "\n",
    "        # Turning off automatic differentiation\n",
    "        with torch.no_grad():\n",
    "            for data, target in test_dataloader:\n",
    "                data = data.to(device)\n",
    "                target = target.to(device)\n",
    "                output = model(data)\n",
    "                test_loss += loss_fn(output, target).item()  # Sum up batch loss\n",
    "                test_auc += sklearn.metrics.roc_auc_score(target.data.numpy(), output.data.numpy())\n",
    "                pred = output.round()  # Get the index of the max class score\n",
    "                correct += pred.eq(target.view_as(pred)).sum().item()\n",
    "\n",
    "        test_loss /= len(test_dataloader.dataset)\n",
    "        test_auc /= len(test_dataloader)\n",
    "\n",
    "        accuracy = 100. * correct / len(test_dataloader.dataset)\n",
    "\n",
    "        #print('Test set: Average loss: %.4f, Accuracy: %d/%d (%.4f), AUC: %.4f' %\n",
    "                # (test_loss, correct, len(test_dataloader.dataset),\n",
    "                # accuracy, test_auc))\n",
    "\n",
    "        print('%.4f      %.4f      %s' % (test_auc, eta, layers))\n",
    "\n",
    "        results.append({'auc': test_auc, 'eta': eta, 'layers': layers})\n",
    "\n",
    "# print(results)\n"
   ]
  },
  {
   "cell_type": "code",
   "execution_count": 39,
   "metadata": {},
   "outputs": [],
   "source": [
    "\n",
    "\n",
    "\n",
    "\n",
    "\n",
    "\n",
    "\n",
    "\n",
    "\n",
    "\n",
    "\n",
    "\n",
    "\n",
    "\n",
    "\n",
    "\n",
    "\n",
    "\n",
    "\n",
    "\n",
    "\n",
    "\n",
    "\n",
    "\n",
    "\n",
    "\n",
    "\n",
    "\n",
    "\n",
    "\n",
    "\n",
    "\n",
    "\n",
    "\n",
    "\n",
    "\n",
    "\n"
   ]
  },
  {
   "cell_type": "code",
   "execution_count": null,
   "metadata": {},
   "outputs": [],
   "source": []
  }
 ]
}