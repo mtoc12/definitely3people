{
 "cells": [
  {
   "cell_type": "markdown",
   "metadata": {},
   "source": [
    "This notebook is an example of training an hmm and generating a sonnet with the correct number of syllables per line using the function in utils.py"
   ]
  },
  {
   "cell_type": "code",
   "execution_count": 1,
   "metadata": {},
   "outputs": [],
   "source": [
    "import string\n",
    "import numpy as np\n",
    "from hmmlearn import hmm\n",
    "import utils"
   ]
  },
  {
   "cell_type": "markdown",
   "metadata": {},
   "source": [
    "### Load sonnets for training"
   ]
  },
  {
   "cell_type": "code",
   "execution_count": 2,
   "metadata": {},
   "outputs": [],
   "source": [
    "sonnets = utils.load_sonnets()\n",
    "sequences, lengths, word_library, feat_library, num_features = utils.vectorize_sonnets(sonnets)\n",
    "sequences = np.array([sequences]).T"
   ]
  },
  {
   "cell_type": "markdown",
   "metadata": {},
   "source": [
    "### Quick helper function to make it easy to test different numbers of hidden states"
   ]
  },
  {
   "cell_type": "code",
   "execution_count": 3,
   "metadata": {},
   "outputs": [],
   "source": [
    "def wherefore_art_thou_Romeo(num_hidden_states):\n",
    "    np.random.seed(42)\n",
    "    model = hmm.MultinomialHMM(n_components=num_hidden_states)\n",
    "    model = model.fit(sequences, lengths)\n",
    "    return model"
   ]
  },
  {
   "cell_type": "markdown",
   "metadata": {},
   "source": [
    "### Generate a sonnet"
   ]
  },
  {
   "cell_type": "code",
   "execution_count": 4,
   "metadata": {},
   "outputs": [
    {
     "name": "stdout",
     "output_type": "stream",
     "text": [
      "flatter love the fight sit even chance that each \n",
      "toil a which o my since sweet the said truth \n",
      "for memory blow thought what is watchman \n",
      "all at of the it burn i drink sure love \n",
      "\n",
      "am mars and life proud but in crushed those the \n",
      "blow eternal bosom aught love world to \n",
      "held canker for to not audit and be \n",
      "retention dost like nor gavst if thee black \n",
      "\n",
      "a the being hell thy i hate with have say \n",
      "my therefore and i of should sweet is this \n",
      "thrice a thee thoughts use the race love and do \n",
      "pursuing we do crown borne we fear vaunt \n",
      "\n",
      "contains influence on thy have could thou my \n",
      "look lesson controlling heart of nature \n",
      "\n"
     ]
    }
   ],
   "source": [
    "num_hidden_states = 6 # 6 is the most hidden states possible without warning about number of parameters\n",
    "model = wherefore_art_thou_Romeo(num_hidden_states)\n",
    "utils.serenade_me_oh_sonneteer(model, feat_library)"
   ]
  },
  {
   "cell_type": "code",
   "execution_count": null,
   "metadata": {},
   "outputs": [],
   "source": []
  }
 ],
 "metadata": {
  "kernelspec": {
   "display_name": "Python 3.6.7 64-bit ('CS155': conda)",
   "language": "python",
   "name": "python36764bitcs155conda196b6158d68141a1a0cb46f93387a3ad"
  },
  "language_info": {
   "codemirror_mode": {
    "name": "ipython",
    "version": 3
   },
   "file_extension": ".py",
   "mimetype": "text/x-python",
   "name": "python",
   "nbconvert_exporter": "python",
   "pygments_lexer": "ipython3",
   "version": "3.6.7"
  }
 },
 "nbformat": 4,
 "nbformat_minor": 4
}
