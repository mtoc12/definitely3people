{
 "cells": [
  {
   "cell_type": "markdown",
   "metadata": {},
   "source": [
    "The hmm.py file is meant to train a HMM on both Shakespeare's and Spenser's sonnets, with the goal of outputting a sonnet with the proper number of syllables. It incorporates Spenser's sonnets by using an augmented syllable dictionary. (Done by hand. See tokenize.py to see the code I used for help.)\n",
    "\n",
    "In a feeble attempt to get the HMM to learn syllable numbers, each sonnet is padded with empty words ('') to represent each extra syllable of a word.\n",
    "\n",
    "Also, in a further feeble attempt at coercing the HMM into spitting out actual sonnets, I removed all Shakespearean and Spenserian sonnets that weren't 14 lines long from the training data. (The results are the \"*_redacted.txt\" files.)"
   ]
  },
  {
   "cell_type": "code",
   "execution_count": null,
   "metadata": {},
   "outputs": [],
   "source": [
    "from Dylan import hmm, tokenize"
   ]
  },
  {
   "cell_type": "code",
   "execution_count": null,
   "metadata": {},
   "outputs": [],
   "source": [
    "tokenize.Tokenizer().tokenize()"
   ]
  },
  {
   "cell_type": "code",
   "execution_count": null,
   "metadata": {},
   "outputs": [],
   "source": [
    "# number of hmm components\n",
    "n_hmm_comps = 6\n",
    "\n",
    "# where empty syllables are inserted into the sonnets to maintain the proper number of characters\n",
    "# \"end\", or \"inline\"\n",
    "padding_type = \"inline\"\n",
    "\n",
    "# the \"unit\" the hmm learns on\n",
    "# \"sonnet\" or \"line\"\n",
    "learning_level = \"line\"\n",
    "\n",
    "# which poets to train on:\n",
    "# \"shakespeare\": shakespeare only\n",
    "# \"both\" shakespeare AND spenser\n",
    "authorship = \"both\"\n",
    "\n",
    "hmm.main(n_hmm_comps, padding_type, learning_level, authorship)"
   ]
  }
 ],
 "metadata": {
  "kernelspec": {
   "display_name": "Python 3",
   "language": "python",
   "name": "python3"
  },
  "language_info": {
   "codemirror_mode": {
    "name": "ipython",
    "version": 3
   },
   "file_extension": ".py",
   "mimetype": "text/x-python",
   "name": "python",
   "nbconvert_exporter": "python",
   "pygments_lexer": "ipython3",
   "version": "3.6.9"
  }
 },
 "nbformat": 4,
 "nbformat_minor": 4
}
