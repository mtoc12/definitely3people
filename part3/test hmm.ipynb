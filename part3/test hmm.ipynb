{
 "cells": [
  {
   "cell_type": "code",
   "execution_count": 179,
   "metadata": {},
   "outputs": [],
   "source": [
    "import string\n",
    "import numpy as np\n",
    "from hmmlearn import hmm\n",
    "import time"
   ]
  },
  {
   "cell_type": "code",
   "execution_count": 185,
   "metadata": {},
   "outputs": [
    {
     "data": {
      "text/plain": [
       "<module 'utils' from 'C:\\\\Users\\\\mtoc1\\\\Documents\\\\github\\\\definitely3people\\\\part3\\\\utils.py'>"
      ]
     },
     "execution_count": 185,
     "metadata": {},
     "output_type": "execute_result"
    }
   ],
   "source": [
    "import utils\n",
    "import importlib\n",
    "importlib.reload(utils)"
   ]
  },
  {
   "cell_type": "code",
   "execution_count": 149,
   "metadata": {},
   "outputs": [],
   "source": [
    "sonnets = utils.load_sonnets()\n",
    "sequences, lengths, word_library, feat_library, num_features = utils.vectorize_sonnets(sonnets)\n",
    "sequences = np.array([sequences]).T"
   ]
  },
  {
   "cell_type": "markdown",
   "metadata": {},
   "source": [
    "## Try generating a sonnet"
   ]
  },
  {
   "cell_type": "code",
   "execution_count": 191,
   "metadata": {},
   "outputs": [],
   "source": [
    "np.random.seed(42)\n",
    "\n",
    "num_hidden_states = 20\n",
    "\n",
    "model = hmm.MultinomialHMM(n_components=num_hidden_states)"
   ]
  },
  {
   "cell_type": "code",
   "execution_count": 192,
   "metadata": {},
   "outputs": [
    {
     "name": "stderr",
     "output_type": "stream",
     "text": [
      "Fitting a model with 64099 free scalar parameters with only 19753 data points will result in a degenerate solution.\n"
     ]
    }
   ],
   "source": [
    "model = model.fit(sequences, lengths)"
   ]
  },
  {
   "cell_type": "code",
   "execution_count": 193,
   "metadata": {},
   "outputs": [
    {
     "name": "stdout",
     "output_type": "stream",
     "text": [
      "morning you in a chide faint \n",
      "not of and yet where false of memory my with \n",
      "i a truetelling against \n",
      "bequest lines travelled foot with are self the injury of temptation say to look first vanished thou issue confound or knows \n",
      "this and intelligence and i let errors that \n",
      "gives \n",
      "you his ill \n",
      "for a crowned for lose him loves unseen beggared haste his translated my his \n",
      "a not born the beauty me not more breath some to verse not counterfeit truth i must lawful and sweet thou feed if sessions to in self far then for the the nor to buried to that affords and \n",
      "\n",
      "\n",
      "faith \n",
      "mournful times an is is th if others \n",
      "to and the my thy in threescore unmoved dials the self upon \n",
      "seen that and so with appetite your \n",
      "\n"
     ]
    }
   ],
   "source": [
    "new_seq, new_hidden_states = model.sample(150)\n",
    "new_sonnet = utils.sequence_to_sonnet(new_seq, feat_library)\n",
    "utils.print_sonnet(new_sonnet)"
   ]
  },
  {
   "cell_type": "code",
   "execution_count": 196,
   "metadata": {},
   "outputs": [],
   "source": [
    "def wherefore_art_thou_Romeo(num_hidden_states):\n",
    "    np.random.seed(42)\n",
    "    model = hmm.MultinomialHMM(n_components=num_hidden_states)\n",
    "    model = model.fit(sequences, lengths)\n",
    "    return model\n",
    "\n",
    "# def serenade_me_oh_poet(model, feat_library):\n",
    "#     new_seq, new_hidden_states = model.sample(300) # \\end character removed -> Words after \\end will be ignored\n",
    "#     new_sonnet = utils.sequence_to_sonnet(new_seq, feat_library)\n",
    "#     utils.print_sonnet(new_sonnet)"
   ]
  },
  {
   "cell_type": "code",
   "execution_count": 188,
   "metadata": {},
   "outputs": [],
   "source": [
    "# for num_hidden_states in [2, 5, 10]:\n",
    "#     print(\"---- Testing with %i hidden states ----\" % num_hidden_states)\n",
    "#     time.sleep(1) # This is here to make sure the warnings print where you expect them\n",
    "#     model = wherefore_art_thou_Romeo(num_hidden_states)\n",
    "#     serenade_me_oh_poet(model, feat_library)"
   ]
  },
  {
   "cell_type": "markdown",
   "metadata": {},
   "source": [
    "# Try explicitly enforcing syllable count per line"
   ]
  },
  {
   "cell_type": "markdown",
   "metadata": {},
   "source": [
    "Count the syllables on a single line from the man himself"
   ]
  },
  {
   "cell_type": "code",
   "execution_count": 194,
   "metadata": {},
   "outputs": [
    {
     "name": "stdout",
     "output_type": "stream",
     "text": [
      "['from', 'fairest', 'creatures', 'we', 'desire', 'increase']\n",
      "has 10 syllables\n"
     ]
    }
   ],
   "source": [
    "line = sonnets[0][0]\n",
    "print(line)\n",
    "print('has %i syllables' % utils.count_syllables(line))"
   ]
  },
  {
   "cell_type": "markdown",
   "metadata": {},
   "source": [
    "Generate one line at a time, and redraw each line until it has the correct syllable count"
   ]
  },
  {
   "cell_type": "code",
   "execution_count": 202,
   "metadata": {},
   "outputs": [
    {
     "name": "stdout",
     "output_type": "stream",
     "text": [
      "i the sun since poor yet all was wise one \n",
      "in or art showst then thee worthy all self \n",
      "borrowed bring me lifts though now eyes thy rhyme \n",
      "do heart flowers any bound this do is grave \n",
      "\n",
      "by view but to or you as thoughts sight let \n",
      "beauty speaking that then of thee being false \n",
      "effect in be must must spite to deep make \n",
      "shows known else leaving in featureless name \n",
      "\n",
      "flowers lies given on graces above receives \n",
      "couplement self cheek spent ah he that well \n",
      "fool windows leaves could or churl with wife she \n",
      "what more that forlorn what minds praise mine set \n",
      "\n",
      "palate commits shade light in mine heir then \n",
      "to lawful yet thee is and churl drink put \n",
      "\n"
     ]
    }
   ],
   "source": [
    "num_hidden_states = 1\n",
    "model = wherefore_art_thou_Romeo(num_hidden_states)\n",
    "utils.serenade_me_oh_sonneteer(model, feat_library)"
   ]
  },
  {
   "cell_type": "code",
   "execution_count": 203,
   "metadata": {},
   "outputs": [
    {
     "name": "stdout",
     "output_type": "stream",
     "text": [
      "i to thou separable eyes whit do \n",
      "know some gone as often with thou hush their \n",
      "it rite thou than hath my dead preserve from \n",
      "noted will good this were april can when \n",
      "\n",
      "mine churls in i building which who far death \n",
      "our their painted which and break unseeing \n",
      "a i and answered do lets where disgrace \n",
      "so you razed it vermilion from be self \n",
      "\n",
      "my so they a sleep first me breast if day \n",
      "sets consider composed i little \n",
      "the shall steel reckon need loves mine devise \n",
      "must and i in life hot breath thy green the \n",
      "\n",
      "since obsequious and what self one false art \n",
      "he mine eyes doth what his on must shame so \n",
      "\n"
     ]
    }
   ],
   "source": [
    "num_hidden_states = 4\n",
    "model = wherefore_art_thou_Romeo(num_hidden_states)\n",
    "utils.serenade_me_oh_sonneteer(model, feat_library)"
   ]
  },
  {
   "cell_type": "code",
   "execution_count": 204,
   "metadata": {},
   "outputs": [
    {
     "name": "stdout",
     "output_type": "stream",
     "text": [
      "flatter love the fight sit even chance that each \n",
      "toil a which o my since sweet the said truth \n",
      "for memory blow thought what is watchman \n",
      "all at of the it burn i drink sure love \n",
      "\n",
      "am mars and life proud but in crushed those the \n",
      "blow eternal bosom aught love world to \n",
      "held canker for to not audit and be \n",
      "retention dost like nor gavst if thee black \n",
      "\n",
      "a the being hell thy i hate with have say \n",
      "my therefore and i of should sweet is this \n",
      "thrice a thee thoughts use the race love and do \n",
      "pursuing we do crown borne we fear vaunt \n",
      "\n",
      "contains influence on thy have could thou my \n",
      "look lesson controlling heart of nature \n",
      "\n"
     ]
    }
   ],
   "source": [
    "num_hidden_states = 6 # 6 is the most hidden states possible without warning about number of parameters\n",
    "model = wherefore_art_thou_Romeo(num_hidden_states)\n",
    "utils.serenade_me_oh_sonneteer(model, feat_library)"
   ]
  },
  {
   "cell_type": "code",
   "execution_count": null,
   "metadata": {},
   "outputs": [],
   "source": []
  }
 ],
 "metadata": {
  "kernelspec": {
   "display_name": "Python 3.6.8 64-bit ('base': conda)",
   "language": "python",
   "name": "python36864bitbasecondaa087013fcdd4455e968d820f9fb1cc06"
  },
  "language_info": {
   "codemirror_mode": {
    "name": "ipython",
    "version": 3
   },
   "file_extension": ".py",
   "mimetype": "text/x-python",
   "name": "python",
   "nbconvert_exporter": "python",
   "pygments_lexer": "ipython3",
   "version": "3.6.8"
  }
 },
 "nbformat": 4,
 "nbformat_minor": 2
}
