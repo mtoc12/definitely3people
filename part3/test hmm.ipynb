{
 "cells": [
  {
   "cell_type": "code",
   "execution_count": 143,
   "metadata": {},
   "outputs": [],
   "source": [
    "import numpy as np\n",
    "from hmmlearn import hmm\n",
    "import time"
   ]
  },
  {
   "cell_type": "code",
   "execution_count": 144,
   "metadata": {},
   "outputs": [
    {
     "data": {
      "text/plain": [
       "<module 'utils' from 'C:\\\\Users\\\\mtoc1\\\\Documents\\\\github\\\\definitely3people\\\\part3\\\\utils.py'>"
      ]
     },
     "execution_count": 144,
     "metadata": {},
     "output_type": "execute_result"
    }
   ],
   "source": [
    "import utils\n",
    "import importlib\n",
    "importlib.reload(utils)"
   ]
  },
  {
   "cell_type": "code",
   "execution_count": 136,
   "metadata": {},
   "outputs": [],
   "source": [
    "sonnets = utils.load_sonnets()\n",
    "sequences, lengths, word_library, feat_library, num_features = utils.vectorize_sonnets(sonnets)\n",
    "sequences = np.array([sequences]).T"
   ]
  },
  {
   "cell_type": "code",
   "execution_count": 137,
   "metadata": {},
   "outputs": [],
   "source": [
    "np.random.seed(42)\n",
    "\n",
    "num_hidden_states = 6\n",
    "\n",
    "model = hmm.MultinomialHMM(n_components=num_hidden_states)"
   ]
  },
  {
   "cell_type": "code",
   "execution_count": 138,
   "metadata": {},
   "outputs": [],
   "source": [
    "model = model.fit(sequences, lengths)"
   ]
  },
  {
   "cell_type": "code",
   "execution_count": 139,
   "metadata": {},
   "outputs": [
    {
     "name": "stdout",
     "output_type": "stream",
     "text": [
      "slandering show her will meet parts day \n",
      "\n"
     ]
    }
   ],
   "source": [
    "new_seq, new_hidden_states = model.sample(150)\n",
    "new_sonnet = utils.sequence_to_sonnet(new_seq, feat_library)\n",
    "utils.print_sonnet(new_sonnet)"
   ]
  },
  {
   "cell_type": "code",
   "execution_count": 140,
   "metadata": {},
   "outputs": [],
   "source": [
    "def wherefore_art_thou_Romeo(num_hidden_states):\n",
    "    np.random.seed(42)\n",
    "    model = hmm.MultinomialHMM(n_components=num_hidden_states)\n",
    "    model = model.fit(sequences, lengths)\n",
    "    return model\n",
    "\n",
    "def serenade_me_oh_sonneteer(model, feat_library):\n",
    "    new_seq, new_hidden_states = model.sample(300) # Words after \\end will be ignored\n",
    "    new_sonnet = utils.sequence_to_sonnet(new_seq, feat_library)\n",
    "    utils.print_sonnet(new_sonnet)"
   ]
  },
  {
   "cell_type": "code",
   "execution_count": 146,
   "metadata": {},
   "outputs": [
    {
     "name": "stdout",
     "output_type": "stream",
     "text": [
      "---- Testing with 2 hidden states ----\n",
      "\n",
      "\n",
      "---- Testing with 5 hidden states ----\n",
      "deep thou my do to and yet dwells a \n",
      "gardens why for flowers away eye so survey spent go not to song unwooed nor perjured graces living incertainty ghost upon loves \n",
      "if fever is is \n",
      "of to suppressed buy for should shadow themselves in look lest outward so their \n",
      "\n",
      "so doubting prime whereupon true thief if sum in \n",
      "\n",
      "that \n",
      "to reason four to come for the rich no love cruel without thrusts for is love not come is \n",
      "this this these cheeks self masked and upon gilded captive wasteful ages the of veil then teach not sometime if tables eye than and thou not hath more not my that entitled treason hand every cures my \n",
      "then i one filching uncertain your death silent and angry compile you urge my in thou perjured despised in \n",
      "by that his away have we old unused and not will your where \n",
      "\n",
      "pluck \n",
      "\n",
      "---- Testing with 10 hidden states ----\n"
     ]
    },
    {
     "name": "stderr",
     "output_type": "stream",
     "text": [
      "Fitting a model with 31959 free scalar parameters with only 19907 data points will result in a degenerate solution.\n"
     ]
    },
    {
     "name": "stdout",
     "output_type": "stream",
     "text": [
      "gildst to cost \n",
      "\n",
      "for assure one and those true chose doth the cut \n",
      "lords thy if sweet grieve \n",
      "to mine perfumes of know upon naming \n",
      "longer my remove sorrow truth asleep pilgrimage the when pleasure the far who seek \n",
      "looking beauty if farthest more \n",
      "one \n",
      "the help and love true poor shame every thee no truth with \n",
      "view brow believe painting to do to will \n",
      "thee loves rain bright vex scanted how thou at thou heart an or rarities mine praise and thy summers \n",
      "see \n",
      "not \n",
      "\n",
      "---- Testing with 15 hidden states ----\n"
     ]
    },
    {
     "name": "stderr",
     "output_type": "stream",
     "text": [
      "Fitting a model with 48014 free scalar parameters with only 19907 data points will result in a degenerate solution.\n"
     ]
    },
    {
     "name": "stdout",
     "output_type": "stream",
     "text": [
      "\n"
     ]
    }
   ],
   "source": [
    "for num_hidden_states in [2, 5, 10, 15]:\n",
    "    print(\"---- Testing with %i hidden states ----\" % num_hidden_states)\n",
    "    time.sleep(1) # This is here to make sure the warnings print where you expect them\n",
    "    model = wherefore_art_thou_Romeo(num_hidden_states)\n",
    "    serenade_me_oh_sonneteer(model, feat_library)"
   ]
  },
  {
   "cell_type": "code",
   "execution_count": null,
   "metadata": {},
   "outputs": [],
   "source": []
  }
 ],
 "metadata": {
  "kernelspec": {
   "display_name": "Python 3.7.3 64-bit ('base': conda)",
   "language": "python",
   "name": "python37364bitbaseconda616ee3b691a7456fb56d65de76d30fdb"
  },
  "language_info": {
   "codemirror_mode": {
    "name": "ipython",
    "version": 3
   },
   "file_extension": ".py",
   "mimetype": "text/x-python",
   "name": "python",
   "nbconvert_exporter": "python",
   "pygments_lexer": "ipython3",
   "version": "3.7.3"
  }
 },
 "nbformat": 4,
 "nbformat_minor": 2
}
