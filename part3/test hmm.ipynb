{
 "cells": [
  {
   "cell_type": "code",
   "execution_count": 134,
   "metadata": {},
   "outputs": [],
   "source": [
    "import numpy as np\n",
    "from hmmlearn import hmm"
   ]
  },
  {
   "cell_type": "code",
   "execution_count": 135,
   "metadata": {},
   "outputs": [
    {
     "data": {
      "text/plain": [
       "<module 'utils' from 'C:\\\\Users\\\\mtoc1\\\\Documents\\\\github\\\\definitely3people\\\\part3\\\\utils.py'>"
      ]
     },
     "execution_count": 135,
     "metadata": {},
     "output_type": "execute_result"
    }
   ],
   "source": [
    "import utils\n",
    "import importlib\n",
    "importlib.reload(utils)"
   ]
  },
  {
   "cell_type": "code",
   "execution_count": 136,
   "metadata": {},
   "outputs": [],
   "source": [
    "sonnets = utils.load_sonnets()\n",
    "sequences, lengths, word_library, feat_library, num_features = utils.vectorize_sonnets(sonnets)\n",
    "sequences = np.array([sequences]).T"
   ]
  },
  {
   "cell_type": "code",
   "execution_count": 137,
   "metadata": {},
   "outputs": [],
   "source": [
    "np.random.seed(42)\n",
    "\n",
    "num_hidden_states = 6\n",
    "\n",
    "model = hmm.MultinomialHMM(n_components=num_hidden_states)"
   ]
  },
  {
   "cell_type": "code",
   "execution_count": 138,
   "metadata": {},
   "outputs": [],
   "source": [
    "model = model.fit(sequences, lengths)"
   ]
  },
  {
   "cell_type": "code",
   "execution_count": 139,
   "metadata": {},
   "outputs": [
    {
     "name": "stdout",
     "output_type": "stream",
     "text": [
      "slandering show her will meet parts day \n",
      "\n"
     ]
    }
   ],
   "source": [
    "new_seq, new_hidden_states = model.sample(150)\n",
    "new_sonnet = utils.sequence_to_sonnet(new_seq, feat_library)\n",
    "utils.print_sonnet(new_sonnet)"
   ]
  },
  {
   "cell_type": "code",
   "execution_count": 140,
   "metadata": {},
   "outputs": [],
   "source": [
    "def wherefore_art_thou_Romeo(num_hidden_states):\n",
    "    np.random.seed(42)\n",
    "    model = hmm.MultinomialHMM(n_components=num_hidden_states)\n",
    "    model = model.fit(sequences, lengths)\n",
    "    return model\n",
    "\n",
    "def serenade_me_oh_sonneteer(model, feat_library):\n",
    "    new_seq, new_hidden_states = model.sample(300) # Words after \\end will be ignored\n",
    "    new_sonnet = utils.sequence_to_sonnet(new_seq, feat_library)\n",
    "    utils.print_sonnet(new_sonnet)"
   ]
  },
  {
   "cell_type": "code",
   "execution_count": 142,
   "metadata": {},
   "outputs": [
    {
     "name": "stdout",
     "output_type": "stream",
     "text": [
      "---- Testing with 2 hidden states ----\n",
      "\n",
      "\n"
     ]
    },
    {
     "ename": "NameError",
     "evalue": "name 'pause' is not defined",
     "output_type": "error",
     "traceback": [
      "\u001b[1;31m---------------------------------------------------------------------------\u001b[0m",
      "\u001b[1;31mNameError\u001b[0m                                 Traceback (most recent call last)",
      "\u001b[1;32m<ipython-input-142-25119f5453d9>\u001b[0m in \u001b[0;36m<module>\u001b[1;34m\u001b[0m\n\u001b[0;32m      3\u001b[0m     \u001b[0mmodel\u001b[0m \u001b[1;33m=\u001b[0m \u001b[0mwherefore_art_thou_Romeo\u001b[0m\u001b[1;33m(\u001b[0m\u001b[0mnum_hidden_states\u001b[0m\u001b[1;33m)\u001b[0m\u001b[1;33m\u001b[0m\u001b[1;33m\u001b[0m\u001b[0m\n\u001b[0;32m      4\u001b[0m     \u001b[0mserenade_me_oh_sonneteer\u001b[0m\u001b[1;33m(\u001b[0m\u001b[0mmodel\u001b[0m\u001b[1;33m,\u001b[0m \u001b[0mfeat_library\u001b[0m\u001b[1;33m)\u001b[0m\u001b[1;33m\u001b[0m\u001b[1;33m\u001b[0m\u001b[0m\n\u001b[1;32m----> 5\u001b[1;33m     \u001b[0mpause\u001b[0m\u001b[1;33m(\u001b[0m\u001b[1;36m1\u001b[0m\u001b[1;33m)\u001b[0m\u001b[1;33m\u001b[0m\u001b[1;33m\u001b[0m\u001b[0m\n\u001b[0m",
      "\u001b[1;31mNameError\u001b[0m: name 'pause' is not defined"
     ]
    }
   ],
   "source": [
    "for num_hidden_states in [2, 5, 10, 15]:\n",
    "    print(\"---- Testing with %i hidden states ----\" % num_hidden_states)\n",
    "    model = wherefore_art_thou_Romeo(num_hidden_states)\n",
    "    serenade_me_oh_sonneteer(model, feat_library)\n",
    "    pause(1)"
   ]
  },
  {
   "cell_type": "code",
   "execution_count": null,
   "metadata": {},
   "outputs": [],
   "source": []
  }
 ],
 "metadata": {
  "kernelspec": {
   "display_name": "Python 3.7.3 64-bit ('base': conda)",
   "language": "python",
   "name": "python37364bitbaseconda616ee3b691a7456fb56d65de76d30fdb"
  },
  "language_info": {
   "codemirror_mode": {
    "name": "ipython",
    "version": 3
   },
   "file_extension": ".py",
   "mimetype": "text/x-python",
   "name": "python",
   "nbconvert_exporter": "python",
   "pygments_lexer": "ipython3",
   "version": "3.7.3"
  }
 },
 "nbformat": 4,
 "nbformat_minor": 2
}
