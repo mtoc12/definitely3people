{
 "cells": [
  {
   "cell_type": "code",
   "execution_count": 1,
   "metadata": {},
   "outputs": [
    {
     "data": {
      "text/plain": [
       "[['from', 'fairest', 'creatures', 'we', 'desire', 'increase'],\n",
       " ['that', 'thereby', 'beautys', 'rose', 'might', 'never', 'die'],\n",
       " ['but', 'as', 'the', 'riper', 'should', 'by', 'time', 'decease'],\n",
       " ['his', 'tender', 'heir', 'might', 'bear', 'his', 'memory'],\n",
       " ['but', 'thou', 'contracted', 'to', 'thine', 'own', 'bright', 'eyes'],\n",
       " ['feedst', 'thy', 'lights', 'flame', 'with', 'selfsubstantial', 'fuel'],\n",
       " ['making', 'a', 'famine', 'where', 'abundance', 'lies'],\n",
       " ['thy', 'self', 'thy', 'foe', 'to', 'thy', 'sweet', 'self', 'too', 'cruel'],\n",
       " ['thou', 'that', 'art', 'now', 'the', 'worlds', 'fresh', 'ornament'],\n",
       " ['and', 'only', 'herald', 'to', 'the', 'gaudy', 'spring'],\n",
       " ['within', 'thine', 'own', 'bud', 'buriest', 'thy', 'content'],\n",
       " ['and', 'tender', 'churl', 'makst', 'waste', 'in', 'niggarding'],\n",
       " ['pity', 'the', 'world', 'or', 'else', 'this', 'glutton', 'be'],\n",
       " ['to', 'eat', 'the', 'worlds', 'due', 'by', 'the', 'grave', 'and', 'thee']]"
      ]
     },
     "execution_count": 1,
     "metadata": {},
     "output_type": "execute_result"
    }
   ],
   "source": [
    "import utils\n",
    "import importlib\n",
    "importlib.reload(utils)\n",
    "sonnets = utils.load_sonnets()\n",
    "sonnets[0]"
   ]
  },
  {
   "cell_type": "code",
   "execution_count": 23,
   "metadata": {},
   "outputs": [],
   "source": [
    "word_library = {'\\n':0, '\\end':1}\n",
    "feat_library = {0:'\\n', 1:'\\end'}\n",
    "num_features = 2\n",
    "for sonnet in sonnets:\n",
    "    for line in sonnet:\n",
    "        for word in line:\n",
    "            # Check if word is already in dictionary\n",
    "            if not word in word_library.keys():\n",
    "                word_library[word] = num_features\n",
    "                feat_library[num_features] = word\n",
    "                num_features += 1"
   ]
  },
  {
   "cell_type": "code",
   "execution_count": 58,
   "metadata": {},
   "outputs": [
    {
     "name": "stdout",
     "output_type": "stream",
     "text": [
      "True\n"
     ]
    }
   ],
   "source": [
    "def sonnet_to_sequence(sonnet):\n",
    "    sequence = []\n",
    "    for line in sonnet:\n",
    "        for word in line:\n",
    "            sequence.append(word_library[word])\n",
    "        sequence.append(word_library['\\n'])\n",
    "    sequence.append(word_library['\\end'])\n",
    "    return sequence\n",
    "\n",
    "def sequence_to_sonnet(sequence):\n",
    "    sonnet = []\n",
    "    line = []\n",
    "    for item in sequence:\n",
    "        word = feat_library[item]\n",
    "        if word == '\\n':\n",
    "            sonnet.append(line)\n",
    "            line = []\n",
    "        elif word == '\\end':\n",
    "            return sonnet\n",
    "        else:\n",
    "            line.append(word)\n",
    "    \n",
    "# print(sonnets[0])\n",
    "sequence = sonnet_to_sequence(sonnets[0])\n",
    "# print(sequence)\n",
    "same_sonnet = sequence_to_sonnet(sequence)\n",
    "print(same_sonnet == sonnets[0])"
   ]
  },
  {
   "cell_type": "code",
   "execution_count": 60,
   "metadata": {},
   "outputs": [
    {
     "name": "stdout",
     "output_type": "stream",
     "text": [
      "True\n"
     ]
    }
   ],
   "source": [
    "sequences = []\n",
    "for sonnet in sonnets:\n",
    "    sequences.append(sonnet_to_sequence(sonnet))\n",
    "    \n",
    "print(sequence_to_sonnet(sequences[0]) == sonnets[0])"
   ]
  },
  {
   "cell_type": "markdown",
   "metadata": {},
   "source": [
    "## Test "
   ]
  },
  {
   "cell_type": "markdown",
   "metadata": {},
   "source": [
    "Moved above code to utils.py so that it can easily be called later.  Below is a quick test of the code after moving it to utils.py."
   ]
  },
  {
   "cell_type": "code",
   "execution_count": 62,
   "metadata": {},
   "outputs": [
    {
     "name": "stdout",
     "output_type": "stream",
     "text": [
      "True\n"
     ]
    }
   ],
   "source": [
    "import utils\n",
    "import importlib\n",
    "importlib.reload(utils)\n",
    "\n",
    "sequences, word_library, feat_library, num_features = utils.vectorize_sonnets(sonnets)\n",
    "\n",
    "print(utils.sequence_to_sonnet(sequences[0], feat_library) == sonnets[0])"
   ]
  },
  {
   "cell_type": "code",
   "execution_count": null,
   "metadata": {},
   "outputs": [],
   "source": []
  }
 ],
 "metadata": {
  "kernelspec": {
   "display_name": "Python 3.6.7 64-bit ('CS155': conda)",
   "language": "python",
   "name": "python36764bitcs155conda196b6158d68141a1a0cb46f93387a3ad"
  },
  "language_info": {
   "codemirror_mode": {
    "name": "ipython",
    "version": 3
   },
   "file_extension": ".py",
   "mimetype": "text/x-python",
   "name": "python",
   "nbconvert_exporter": "python",
   "pygments_lexer": "ipython3",
   "version": "3.6.7"
  }
 },
 "nbformat": 4,
 "nbformat_minor": 2
}
