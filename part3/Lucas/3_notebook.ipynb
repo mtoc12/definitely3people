{
 "cells": [
  {
   "cell_type": "markdown",
   "metadata": {},
   "source": [
    "# Problem 3\n",
    "Authors: Sid Murching, Suraj Nair, Alex Cui"
   ]
  },
  {
   "cell_type": "code",
   "execution_count": 1,
   "metadata": {},
   "outputs": [
    {
     "name": "stderr",
     "output_type": "stream",
     "text": [
      "Using TensorFlow backend.\n"
     ]
    }
   ],
   "source": [
    "import numpy as np\n",
    "from P3CHelpers import *\n",
    "from keras.models import Sequential\n",
    "from keras.layers import Dense, Activation\n",
    "import sys\n",
    "\n",
    "\n",
    "%load_ext blackcellmagic"
   ]
  },
  {
   "cell_type": "markdown",
   "metadata": {},
   "source": [
    "## 3D:\n",
    "Fill in the generate_traindata and find_most_similar_pairs functions"
   ]
  },
  {
   "cell_type": "code",
   "execution_count": 2,
   "metadata": {},
   "outputs": [],
   "source": [
    "def get_word_repr(word_to_index, word):\n",
    "    \"\"\"\n",
    "    Returns one-hot-encoded feature representation of the specified word given\n",
    "    a dictionary mapping words to their one-hot-encoded index.\n",
    "\n",
    "    Arguments:\n",
    "        word_to_index: Dictionary mapping words to their corresponding index\n",
    "                       in a one-hot-encoded representation of our corpus.\n",
    "\n",
    "        word:          String containing word whose feature representation we wish to compute.\n",
    "\n",
    "    Returns:\n",
    "        feature_representation:     Feature representation of the passed-in word.\n",
    "    \"\"\"\n",
    "    unique_words = word_to_index.keys()\n",
    "\n",
    "    # Return a vector that's zero everywhere besides the index corresponding to <word>\n",
    "\n",
    "    feature_representation = np.zeros(len(unique_words))\n",
    "    feature_representation[word_to_index[word]] = 1\n",
    "    return feature_representation\n",
    "\n",
    "\n",
    "def generate_traindata(word_list, word_to_index, window_size=4):\n",
    "    \"\"\"\n",
    "    Generates training data for Skipgram model.\n",
    "\n",
    "    Arguments:\n",
    "        word_list:     Sequential list of words (strings).\n",
    "        word_to_index: Dictionary mapping words to their corresponding index\n",
    "                       in a one-hot-encoded representation of our corpus.\n",
    "\n",
    "        window_size:   Size of Skipgram window.\n",
    "                       (use the default value when running your code).\n",
    "\n",
    "    Returns:\n",
    "        (trainX, trainY):     A pair of matrices (trainX, trainY) containing training \n",
    "                              points (one-hot-encoded vectors representing individual words) and \n",
    "                              their corresponding labels (also one-hot-encoded vectors representing words).\n",
    "\n",
    "                              For each index i, trainX[i] should correspond to a word in\n",
    "                              <word_list>, and trainY[i] should correspond to one of the words within\n",
    "                              a window of size <window_size> of trainX[i].\n",
    "    \"\"\"\n",
    "    trainX = []\n",
    "    trainY = []\n",
    "\n",
    "    for word in word_list:\n",
    "        \n",
    "        index = word_to_index[word]\n",
    "\n",
    "        for i in [x for x in range(-window_size, window_size + 1) if x != 0]:\n",
    "\n",
    "            if (index + i) >= 0 and (index + i) <= len(word_list):\n",
    "\n",
    "                onehot_x = get_word_repr(word_to_index, word_list[index])\n",
    "                onehot_y = get_word_repr(word_to_index, word_list[index + i])\n",
    "\n",
    "                trainX.append(onehot_x)\n",
    "                trainY.append(onehot_y)\n",
    "\n",
    "    return (np.array(trainX), np.array(trainY))"
   ]
  },
  {
   "cell_type": "code",
   "execution_count": 3,
   "metadata": {},
   "outputs": [],
   "source": [
    "\"\"\"Keras version.\"\"\"\n",
    "\n",
    "def find_most_similar_pairs(filename, num_latent_factors):\n",
    "    \"\"\"\n",
    "    Find the most similar pairs from the word embeddings computed from\n",
    "    a body of text\n",
    "    \n",
    "    Arguments:\n",
    "        filename:           Text file to read and train embeddings from\n",
    "        num_latent_factors: The number of latent factors / the size of the embedding\n",
    "    \"\"\"\n",
    "    # Load in a list of words from the specified file; remove non-alphanumeric characters\n",
    "    # and make all chars lowercase.\n",
    "    sample_text = load_word_list(filename)\n",
    "\n",
    "    # Create dictionary mapping unique words to their one-hot-encoded index\n",
    "    word_to_index = generate_onehot_dict(sample_text)\n",
    "\n",
    "    # Create training data using default window size\n",
    "    trainX, trainY = generate_traindata(sample_text, word_to_index)\n",
    "\n",
    "    # TODO: 1) Create and train model in Keras.\n",
    "\n",
    "    # vocab_size = number of unique words in our text file. Will be useful when adding layers\n",
    "    # to your neural network\n",
    "    vocab_size = len(word_to_index)\n",
    "    \n",
    "    model = Sequential()\n",
    "\n",
    "    model.add(Dense(num_latent_factors, input_dim=vocab_size))\n",
    "    model.add(Dense(vocab_size))\n",
    "    model.add(Activation(\"softmax\"))\n",
    "\n",
    "    model.compile(\n",
    "        loss=\"categorical_crossentropy\", \n",
    "        optimizer=\"Adam\", \n",
    "        metrics=[\"accuracy\"]\n",
    "    )\n",
    "    \n",
    "    print(model.summary())\n",
    "    print(\"\\n\")\n",
    "        \n",
    "    model.fit(trainX, trainY, batch_size=30, epochs=80)\n",
    "\n",
    "    # TODO: 2) Extract weights for hidden layer, set <weights> variable below\n",
    "\n",
    "    weights = model.get_weights()[0]\n",
    "    \n",
    "    print(\"\\n\")\n",
    "\n",
    "    for weight in model.get_weights():\n",
    "        print(\"Weight Shape:\", weight.shape)\n",
    "\n",
    "    # Find and print most similar pairs\n",
    "    similar_pairs = most_similar_pairs(weights, word_to_index)\n",
    "    print(\"\\n\")\n",
    "    print(\"Most Similar Pairs:\")\n",
    "    for pair in similar_pairs[:30]:\n",
    "        print(pair)"
   ]
  },
  {
   "cell_type": "markdown",
   "metadata": {},
   "source": [
    "## 3G:\n",
    "Run the function below and report your results for dr_seuss.txt."
   ]
  },
  {
   "cell_type": "code",
   "execution_count": null,
   "metadata": {},
   "outputs": [],
   "source": [
    "find_most_similar_pairs('syke.txt', 10)"
   ]
  },
  {
   "cell_type": "code",
   "execution_count": null,
   "metadata": {},
   "outputs": [],
   "source": []
  },
  {
   "cell_type": "code",
   "execution_count": null,
   "metadata": {},
   "outputs": [],
   "source": []
  }
 ],
 "metadata": {
  "kernelspec": {
   "display_name": "Python 3",
   "language": "python",
   "name": "python3"
  },
  "language_info": {
   "codemirror_mode": {
    "name": "ipython",
    "version": 3
   },
   "file_extension": ".py",
   "mimetype": "text/x-python",
   "name": "python",
   "nbconvert_exporter": "python",
   "pygments_lexer": "ipython3",
   "version": "3.7.6"
  }
 },
 "nbformat": 4,
 "nbformat_minor": 4
}
