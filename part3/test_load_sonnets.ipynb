{
 "cells": [
  {
   "cell_type": "code",
   "execution_count": 109,
   "metadata": {},
   "outputs": [],
   "source": [
    "import string\n",
    "import numpy as np\n",
    "from nltk import TweetTokenizer\n",
    "tknzr = TweetTokenizer()"
   ]
  },
  {
   "cell_type": "markdown",
   "metadata": {},
   "source": [
    "## Import data"
   ]
  },
  {
   "cell_type": "code",
   "execution_count": 110,
   "metadata": {},
   "outputs": [],
   "source": [
    "datafile = './data/shakespeare.txt'\n",
    "# def load_data(datafile='./data/shakespeare.txt')\n",
    "with open(datafile, 'r') as file:\n",
    "    text = file.read()"
   ]
  },
  {
   "cell_type": "markdown",
   "metadata": {},
   "source": [
    "## Print one Sonnet"
   ]
  },
  {
   "cell_type": "code",
   "execution_count": 111,
   "metadata": {},
   "outputs": [
    {
     "name": "stdout",
     "output_type": "stream",
     "text": [
      "[['1'], ['From', 'fairest', 'creatures', 'we', 'desire', 'increase', ','], ['That', 'thereby', \"beauty's\", 'rose', 'might', 'never', 'die', ','], ['But', 'as', 'the', 'riper', 'should', 'by', 'time', 'decease', ','], ['His', 'tender', 'heir', 'might', 'bear', 'his', 'memory', ':'], ['But', 'thou', 'contracted', 'to', 'thine', 'own', 'bright', 'eyes', ','], [\"Feed'st\", 'thy', \"light's\", 'flame', 'with', 'self-substantial', 'fuel', ','], ['Making', 'a', 'famine', 'where', 'abundance', 'lies', ','], ['Thy', 'self', 'thy', 'foe', ',', 'to', 'thy', 'sweet', 'self', 'too', 'cruel', ':'], ['Thou', 'that', 'art', 'now', 'the', \"world's\", 'fresh', 'ornament', ',']]\n"
     ]
    }
   ],
   "source": [
    "# split file into lines and words\n",
    "lines = [tknzr.tokenize(line) for line in text.split('\\n') if line.split()]\n",
    "print(lines[0:10])"
   ]
  },
  {
   "cell_type": "code",
   "execution_count": 112,
   "metadata": {},
   "outputs": [
    {
     "name": "stdout",
     "output_type": "stream",
     "text": [
      "[['1'], ['From', 'fairest', 'creatures', 'we', 'desire', 'increase'], ['That', 'thereby', 'beautys', 'rose', 'might', 'never', 'die'], ['But', 'as', 'the', 'riper', 'should', 'by', 'time', 'decease'], ['His', 'tender', 'heir', 'might', 'bear', 'his', 'memory'], ['But', 'thou', 'contracted', 'to', 'thine', 'own', 'bright', 'eyes'], ['Feedst', 'thy', 'lights', 'flame', 'with', 'selfsubstantial', 'fuel'], ['Making', 'a', 'famine', 'where', 'abundance', 'lies'], ['Thy', 'self', 'thy', 'foe', 'to', 'thy', 'sweet', 'self', 'too', 'cruel'], ['Thou', 'that', 'art', 'now', 'the', 'worlds', 'fresh', 'ornament']]\n"
     ]
    },
    {
     "data": {
      "text/plain": [
       "1"
      ]
     },
     "execution_count": 112,
     "metadata": {},
     "output_type": "execute_result"
    }
   ],
   "source": [
    "# Strip punctuation\n",
    "for i, line in enumerate(lines):\n",
    "    for j, _ in enumerate(line):\n",
    "        punc = \"'\"\n",
    "        for punc in string.punctuation:\n",
    "            lines[i][j] = lines[i][j].replace(punc, \"\")\n",
    "        if len(lines[i][j]) == 0:\n",
    "            del lines[i][j]\n",
    "print(lines[0:10])\n",
    "len(lines[0][0])"
   ]
  },
  {
   "cell_type": "code",
   "execution_count": 113,
   "metadata": {},
   "outputs": [
    {
     "name": "stdout",
     "output_type": "stream",
     "text": [
      "[['From', 'fairest', 'creatures', 'we', 'desire', 'increase'], ['That', 'thereby', 'beautys', 'rose', 'might', 'never', 'die'], ['But', 'as', 'the', 'riper', 'should', 'by', 'time', 'decease'], ['His', 'tender', 'heir', 'might', 'bear', 'his', 'memory'], ['But', 'thou', 'contracted', 'to', 'thine', 'own', 'bright', 'eyes'], ['Feedst', 'thy', 'lights', 'flame', 'with', 'selfsubstantial', 'fuel'], ['Making', 'a', 'famine', 'where', 'abundance', 'lies'], ['Thy', 'self', 'thy', 'foe', 'to', 'thy', 'sweet', 'self', 'too', 'cruel'], ['Thou', 'that', 'art', 'now', 'the', 'worlds', 'fresh', 'ornament'], ['And', 'only', 'herald', 'to', 'the', 'gaudy', 'spring'], ['Within', 'thine', 'own', 'bud', 'buriest', 'thy', 'content'], ['And', 'tender', 'churl', 'makst', 'waste', 'in', 'niggarding'], ['Pity', 'the', 'world', 'or', 'else', 'this', 'glutton', 'be'], ['To', 'eat', 'the', 'worlds', 'due', 'by', 'the', 'grave', 'and', 'thee']]\n"
     ]
    }
   ],
   "source": [
    "# split up each sonnet, remove line denoting sonnet number\n",
    "sonnets = []\n",
    "for i, line in enumerate(lines):\n",
    "    if line[0].isdigit():\n",
    "        sonnet_number = int(line[0]) - 1\n",
    "        sonnets.append([])\n",
    "    else:\n",
    "        sonnets[sonnet_number].append(line)\n",
    "    \n",
    "print(sonnets[0])"
   ]
  },
  {
   "cell_type": "code",
   "execution_count": null,
   "metadata": {},
   "outputs": [],
   "source": [
    "# convert to lower case\n",
    "for j, line in enumerate(sonnets[0]):\n",
    "    for k, word in enumerate(line):\n",
    "        sonnets[0][j][k] = word.lower()\n",
    "sonnets[0]"
   ]
  },
  {
   "cell_type": "markdown",
   "metadata": {},
   "source": [
    "## Test implementation in utils"
   ]
  },
  {
   "cell_type": "code",
   "execution_count": 125,
   "metadata": {},
   "outputs": [
    {
     "data": {
      "text/plain": [
       "[['from', 'fairest', 'creatures', 'we', 'desire', 'increase'],\n",
       " ['that', 'thereby', 'beautys', 'rose', 'might', 'never', 'die'],\n",
       " ['but', 'as', 'the', 'riper', 'should', 'by', 'time', 'decease'],\n",
       " ['his', 'tender', 'heir', 'might', 'bear', 'his', 'memory'],\n",
       " ['but', 'thou', 'contracted', 'to', 'thine', 'own', 'bright', 'eyes'],\n",
       " ['feedst', 'thy', 'lights', 'flame', 'with', 'selfsubstantial', 'fuel'],\n",
       " ['making', 'a', 'famine', 'where', 'abundance', 'lies'],\n",
       " ['thy', 'self', 'thy', 'foe', 'to', 'thy', 'sweet', 'self', 'too', 'cruel'],\n",
       " ['thou', 'that', 'art', 'now', 'the', 'worlds', 'fresh', 'ornament'],\n",
       " ['and', 'only', 'herald', 'to', 'the', 'gaudy', 'spring'],\n",
       " ['within', 'thine', 'own', 'bud', 'buriest', 'thy', 'content'],\n",
       " ['and', 'tender', 'churl', 'makst', 'waste', 'in', 'niggarding'],\n",
       " ['pity', 'the', 'world', 'or', 'else', 'this', 'glutton', 'be'],\n",
       " ['to', 'eat', 'the', 'worlds', 'due', 'by', 'the', 'grave', 'and', 'thee']]"
      ]
     },
     "execution_count": 125,
     "metadata": {},
     "output_type": "execute_result"
    }
   ],
   "source": [
    "import utils\n",
    "import importlib\n",
    "importlib.reload(utils)\n",
    "sonnets = utils.load_sonnets()\n",
    "sonnets[0]"
   ]
  },
  {
   "cell_type": "code",
   "execution_count": null,
   "metadata": {},
   "outputs": [],
   "source": []
  }
 ],
 "metadata": {
  "kernelspec": {
   "display_name": "Python 3.7.3 64-bit ('base': conda)",
   "language": "python",
   "name": "python37364bitbaseconda616ee3b691a7456fb56d65de76d30fdb"
  },
  "language_info": {
   "codemirror_mode": {
    "name": "ipython",
    "version": 3
   },
   "file_extension": ".py",
   "mimetype": "text/x-python",
   "name": "python",
   "nbconvert_exporter": "python",
   "pygments_lexer": "ipython3",
   "version": "3.7.3"
  }
 },
 "nbformat": 4,
 "nbformat_minor": 2
}
